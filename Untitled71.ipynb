{
 "cells": [
  {
   "cell_type": "code",
   "execution_count": 1,
   "id": "3947d03f-08cd-4454-b526-49566237805a",
   "metadata": {},
   "outputs": [
    {
     "name": "stdout",
     "output_type": "stream",
     "text": [
      "[INFO] Loading models...\n",
      "[INFO] Loading dataset for prediction...\n",
      "[INFO] Transforming features...\n",
      "[INFO] Predicting sentiment and escalation risk...\n"
     ]
    },
    {
     "name": "stderr",
     "output_type": "stream",
     "text": [
      "C:\\Users\\NXTWAVE\\AppData\\Local\\Programs\\Python\\Python311\\Lib\\site-packages\\sklearn\\utils\\validation.py:2749: UserWarning: X does not have valid feature names, but LGBMClassifier was fitted with feature names\n",
      "  warnings.warn(\n"
     ]
    },
    {
     "name": "stdout",
     "output_type": "stream",
     "text": [
      "[DONE] Predictions saved to: C:\\Users\\NXTWAVE\\Downloads\\Customer Support Call Sentiment & Escalation Predictor\\predictions.csv\n",
      "[DONE] Summary saved to: C:\\Users\\NXTWAVE\\Downloads\\Customer Support Call Sentiment & Escalation Predictor\\results_summary.json\n",
      "\n",
      "Sample predictions:\n",
      "                                          transcript sentiment_pred  \\\n",
      "0  how's it going Arthur I just placed an order w...       negative   \n",
      "1  yeah hello I'm just wondering if I can speak t...        neutral   \n",
      "2  hey I receive my order but it's the wrong size...       negative   \n",
      "3  hi David I just placed an order online and I w...        neutral   \n",
      "4  hey I bought something from your website the o...       negative   \n",
      "5  hey mate just looking to make some alterations...        neutral   \n",
      "6  hi I just ordered a new phone and I was just w...        neutral   \n",
      "7  yeah hey I need I need some help with it with ...        neutral   \n",
      "8  yeah I just placed in all this you guys and I ...        neutral   \n",
      "9  hey I just ordered the blue and yellow shoes o...        neutral   \n",
      "\n",
      "   sentiment_conf  escalation_prob  \n",
      "0        0.671061         0.840254  \n",
      "1        0.799849         0.005838  \n",
      "2        0.835183         0.850156  \n",
      "3        0.834278         0.006097  \n",
      "4        0.717779         0.858579  \n",
      "5        0.810424         0.185102  \n",
      "6        0.759172         0.217372  \n",
      "7        0.540782         0.421241  \n",
      "8        0.739734         0.035237  \n",
      "9        0.698641         0.016682  \n"
     ]
    }
   ],
   "source": [
    "# callsense_save_predictions.py\n",
    "import os\n",
    "import joblib\n",
    "import numpy as np\n",
    "import pandas as pd\n",
    "from nltk.sentiment import SentimentIntensityAnalyzer\n",
    "import nltk\n",
    "nltk.download(\"vader_lexicon\", quiet=True)\n",
    "\n",
    "# -------- CONFIG --------\n",
    "BASE_DIR = r\"C:\\Users\\NXTWAVE\\Downloads\\Customer Support Call Sentiment & Escalation Predictor\"\n",
    "DATA_CSV = os.path.join(BASE_DIR, \"archive\", \"customer_call_transcriptions.csv\")\n",
    "\n",
    "SENT_MODEL_PATH = os.path.join(BASE_DIR, \"sentiment_model.pkl\")\n",
    "ESC_MODEL_PATH = os.path.join(BASE_DIR, \"escalation_model.pkl\")\n",
    "\n",
    "OUT_PRED = os.path.join(BASE_DIR, \"predictions.csv\")\n",
    "OUT_JSON = os.path.join(BASE_DIR, \"results_summary.json\")\n",
    "\n",
    "# -------- LOAD MODELS --------\n",
    "print(\"[INFO] Loading models...\")\n",
    "clf_sent, le_sent, tfidf = joblib.load(SENT_MODEL_PATH)\n",
    "clf_esc = joblib.load(ESC_MODEL_PATH)\n",
    "\n",
    "# -------- LOAD DATA --------\n",
    "print(\"[INFO] Loading dataset for prediction...\")\n",
    "df = pd.read_csv(DATA_CSV)\n",
    "df = df.rename(columns={\"text\": \"transcript\", \"sentiment_label\": \"sentiment\"})\n",
    "\n",
    "# -------- FEATURE ENGINEERING --------\n",
    "print(\"[INFO] Transforming features...\")\n",
    "X_tfidf = tfidf.transform(df[\"transcript\"]).toarray()\n",
    "\n",
    "sia = SentimentIntensityAnalyzer()\n",
    "lex = np.array([list(sia.polarity_scores(t).values()) for t in df[\"transcript\"]])\n",
    "\n",
    "X = np.concatenate([X_tfidf, lex], axis=1)\n",
    "\n",
    "# -------- PREDICTIONS --------\n",
    "print(\"[INFO] Predicting sentiment and escalation risk...\")\n",
    "sent_preds = clf_sent.predict(X)\n",
    "sent_probs = clf_sent.predict_proba(X).max(axis=1)\n",
    "esc_probs = clf_esc.predict_proba(X)[:, 1]\n",
    "\n",
    "df_out = df.copy()\n",
    "df_out[\"sentiment_pred\"] = le_sent.inverse_transform(sent_preds)\n",
    "df_out[\"sentiment_conf\"] = sent_probs\n",
    "df_out[\"escalation_prob\"] = esc_probs\n",
    "\n",
    "# -------- SAVE RESULTS TO CSV --------\n",
    "df_out.to_csv(OUT_PRED, index=False)\n",
    "print(\"[DONE] Predictions saved to:\", OUT_PRED)\n",
    "\n",
    "# -------- SAVE SUMMARY TO JSON --------\n",
    "summary = {\n",
    "    \"total_records\": len(df_out),\n",
    "    \"sentiment_counts\": df_out[\"sentiment_pred\"].value_counts().to_dict(),\n",
    "    \"avg_escalation_prob\": float(df_out[\"escalation_prob\"].mean()),\n",
    "    \"high_risk_calls\": df_out[df_out[\"escalation_prob\"] > 0.7][\n",
    "        [\"transcript\", \"sentiment_pred\", \"escalation_prob\"]\n",
    "    ].head(5).to_dict(orient=\"records\")\n",
    "}\n",
    "\n",
    "import json\n",
    "with open(OUT_JSON, \"w\") as f:\n",
    "    json.dump(summary, f, indent=2)\n",
    "\n",
    "print(\"[DONE] Summary saved to:\", OUT_JSON)\n",
    "\n",
    "# -------- SHOW SAMPLE OUTPUT --------\n",
    "print(\"\\nSample predictions:\")\n",
    "print(df_out[[\"transcript\", \"sentiment_pred\", \"sentiment_conf\", \"escalation_prob\"]].head(10))\n"
   ]
  },
  {
   "cell_type": "code",
   "execution_count": null,
   "id": "490a6535-8cbc-44ca-add6-f106d66efa80",
   "metadata": {},
   "outputs": [],
   "source": []
  }
 ],
 "metadata": {
  "kernelspec": {
   "display_name": "Python 3 (ipykernel)",
   "language": "python",
   "name": "python3"
  },
  "language_info": {
   "codemirror_mode": {
    "name": "ipython",
    "version": 3
   },
   "file_extension": ".py",
   "mimetype": "text/x-python",
   "name": "python",
   "nbconvert_exporter": "python",
   "pygments_lexer": "ipython3",
   "version": "3.11.9"
  }
 },
 "nbformat": 4,
 "nbformat_minor": 5
}
